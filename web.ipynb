{
 "cells": [
  {
   "cell_type": "markdown",
   "metadata": {},
   "source": [
    "# Web Scraping On IMDB Top Movies Using python\n"
   ]
  },
  {
   "cell_type": "markdown",
   "metadata": {},
   "source": [
    "![](https://i.imgur.com/TgwXNaF.jpg)"
   ]
  },
  {
   "cell_type": "markdown",
   "metadata": {},
   "source": [
    "# What is Web Scraping?\n",
    "In the most simple terms, Web Scraping is the process through which we extract data from a website, and save it in a form which is easy to read, to understand and to work on.\n",
    "\n",
    "When we say 'Easy to work on', we mean to say that the data thus extracted can be used to get a lot of useful insights and answer a lot of questions, finding answers to which would not be such an easy task, if we did not have that data stored with us in a simple and sorted manner, i.e. generally in a CSV File, an Excel File or a Database."
   ]
  },
  {
   "cell_type": "markdown",
   "metadata": {},
   "source": [
    "# project steps\n",
    "Here is an outline of the steps we'll follow :\n",
    "\n",
    "1.Download the webpage using requests\n",
    "\n",
    "2.Parse the HTML source code using BeautifulSoup library and extract the desired infromation\n",
    "\n",
    "3.Building the scraper components\n",
    "\n",
    "4.Compile the extracted information into Python list and dictionaries\n",
    "\n",
    "5.Converting the python dictionaries into Pandas DataFrames\n",
    "\n",
    "6.Write information to the final CSV file\n",
    "\n",
    "7.Future work and references"
   ]
  },
  {
   "cell_type": "markdown",
   "metadata": {},
   "source": [
    "# Packages Used:\n",
    "Requests — For downloading the HTML code from the IMDB URL\n",
    "\n",
    "BeautifulSoup4 — For parsing and extracting data from the HTML string\n",
    "\n",
    "Pandas — to gather my data into a dataframe for further processing"
   ]
  },
  {
   "cell_type": "markdown",
   "metadata": {},
   "source": [
    "## Download the webpage using `requests`"
   ]
  },
  {
   "cell_type": "markdown",
   "metadata": {},
   "source": [
    ">#### **What is `requests`**\n",
    "\n",
    "\n",
    ">Requests is a Python HTTP library that allows us to send HTTP requests to servers of websites, instead of using browsers to communicate the web.\n",
    "\n",
    ">We use `pip`, a package-management system, to install and manage softwares. Since the platform we selected is **Binder**, we would have to type a line of code `!pip install` to install `requests`. You will see lots codes of `!pip` when installing other packages.\n",
    "\n",
    ">When we attempt to use some prewritten functions from a certain library, we would use the `import` statement. e.g. When we would have to type `import requests` after installation, we are able to use any function from `requests` library."
   ]
  },
  {
   "cell_type": "code",
   "execution_count": 9,
   "metadata": {},
   "outputs": [
    {
     "data": {
      "application/javascript": [
       "window.require && require([\"base/js/namespace\"],function(Jupyter){Jupyter.notebook.save_checkpoint()})"
      ],
      "text/plain": [
       "<IPython.core.display.Javascript object>"
      ]
     },
     "metadata": {},
     "output_type": "display_data"
    },
    {
     "name": "stdout",
     "output_type": "stream",
     "text": [
      "[jovian] Updating notebook \"sunithapachala93/final-web-scraping-project\" on https://jovian.com\u001b[0m\n",
      "[jovian] Committed successfully! https://jovian.com/sunithapachala93/final-web-scraping-project\u001b[0m\n"
     ]
    },
    {
     "data": {
      "text/plain": [
       "'https://jovian.com/sunithapachala93/final-web-scraping-project'"
      ]
     },
     "execution_count": 9,
     "metadata": {},
     "output_type": "execute_result"
    }
   ],
   "source": [
    "!pip install jovian --upgrade --quiet\n",
    "import jovian\n",
    "# Execute this to save new versions of the notebook\n",
    "jovian.commit(project=\"final-web-scraping-project\")"
   ]
  },
  {
   "cell_type": "code",
   "execution_count": 10,
   "metadata": {},
   "outputs": [],
   "source": [
    "!pip install requests --upgrade --quiet"
   ]
  },
  {
   "cell_type": "code",
   "execution_count": 11,
   "metadata": {},
   "outputs": [],
   "source": [
    "import requests"
   ]
  },
  {
   "cell_type": "markdown",
   "metadata": {},
   "source": [
    "#### **requests.get()**\n",
    "\n",
    "In order to **download a web page**, we use `requests.get()` to **send the HTTP request** to the **IMDB server** and what the function returns is a **response object**, which is **the HTTP response**. "
   ]
  },
  {
   "cell_type": "markdown",
   "metadata": {},
   "source": [
    "![](https://imgur.com/KekaT4n.png)"
   ]
  },
  {
   "cell_type": "code",
   "execution_count": 12,
   "metadata": {},
   "outputs": [],
   "source": [
    "topic_url='https://www.imdb.com/search/title/?groups=top_250&sort=user_rating'"
   ]
  },
  {
   "cell_type": "code",
   "execution_count": 13,
   "metadata": {},
   "outputs": [],
   "source": [
    "response = requests.get(topic_url)"
   ]
  },
  {
   "cell_type": "markdown",
   "metadata": {},
   "source": [
    "### **Status code**\n",
    "\n",
    "Now, we have to `check` if we succesfully send the HTTP request and get a HTTP response back on purpose. This is because we're NOT using browsers, because of which we can't get `the feedback` directly if we didn't send HTTP requests successfully.\n",
    "\n",
    "In general, the method to check out if the server sended a HTTP response back is the **status code**. In `requests` library, `requests.get` returns a response object, which containing the page contents and the information about status code indicating if the HTTP request was successful. Learn more about HTTP status codes here: https://developer.mozilla.org/en-US/docs/Web/HTTP/Status.\n",
    "\n",
    "\n",
    "If the request was successful, `response.status_code` is set to a value between **200 and 299**."
   ]
  },
  {
   "cell_type": "code",
   "execution_count": 14,
   "metadata": {},
   "outputs": [
    {
     "data": {
      "text/plain": [
       "200"
      ]
     },
     "execution_count": 14,
     "metadata": {},
     "output_type": "execute_result"
    }
   ],
   "source": [
    "response.status_code # Here we are checking the status code : 200-299 will mean that the request was sucessful"
   ]
  },
  {
   "cell_type": "markdown",
   "metadata": {},
   "source": [
    "The HTTP response contains HTML that is ready to be displayed in browser. Here we can use `response.text` to retrive the HTML document."
   ]
  },
  {
   "cell_type": "code",
   "execution_count": 15,
   "metadata": {},
   "outputs": [
    {
     "data": {
      "text/plain": [
       "420824"
      ]
     },
     "execution_count": 15,
     "metadata": {},
     "output_type": "execute_result"
    }
   ],
   "source": [
    "len(response.text) # The 'len' function tells us the lenth of response object"
   ]
  },
  {
   "cell_type": "code",
   "execution_count": 16,
   "metadata": {},
   "outputs": [],
   "source": [
    "page_content = response.text"
   ]
  },
  {
   "cell_type": "code",
   "execution_count": 17,
   "metadata": {},
   "outputs": [
    {
     "data": {
      "text/plain": [
       "'\\n\\n<!DOCTYPE html>\\n<html\\n    xmlns:og=\"http://ogp.me/ns#\"\\n    xmlns:fb=\"http://www.facebook.com/2008/fbml\">\\n    <head>\\n         \\n\\n        <meta charset=\"utf-8\">\\n\\n\\n\\n\\n        <script type=\"text/javascript\">var IMDbTimer={starttime: new Date().getTime(),pt:\\'java\\'};</script>\\n\\n<script>\\n    if (typeof uet == \\'function\\') {\\n      uet(\"bb\", \"LoadTitle\", {wb: 1});\\n    }\\n</script>\\n  <script>(function(t){ (t.events = t.events || {})[\"csm_head_pre_title\"] = new Date().getTime(); })(IMDbTimer);</script>\\n        <title>IMDb &quot;Top 250&quot;\\n(Sorted by IMDb Rating Descending) - IMDb</title>\\n  <script>(function(t){ (t.events = t.events || {})[\"csm_head_post_title\"] = new Date().getTime(); })(IMDbTimer);</script>\\n<script>\\n    if (typeof uet == \\'function\\') {\\n      uet(\"be\", \"LoadTitle\", {wb: 1});\\n    }\\n</script>\\n<script>\\n    if (typeof uex == \\'function\\') {\\n      uex(\"ld\", \"LoadTitle\", {wb: 1});\\n    }\\n</script>\\n\\n        <link rel=\"canonical\" href=\"https://www.imdb.com/search/title/?groups=top_250\" />\\n  '"
      ]
     },
     "execution_count": 17,
     "metadata": {},
     "output_type": "execute_result"
    }
   ],
   "source": [
    "page_content[:1000]  # This display the first 1000 charcters of page_contens"
   ]
  },
  {
   "cell_type": "code",
   "execution_count": 18,
   "metadata": {},
   "outputs": [],
   "source": [
    "with open('webpage.html','w') as f:\n",
    "    f.write(page_content)"
   ]
  },
  {
   "cell_type": "code",
   "execution_count": 19,
   "metadata": {},
   "outputs": [],
   "source": [
    "!pip install beautifulsoup4 --upgrade --quiet"
   ]
  },
  {
   "cell_type": "markdown",
   "metadata": {},
   "source": [
    "# Parse the HTML source code using Beautiful Soup library"
   ]
  },
  {
   "cell_type": "markdown",
   "metadata": {},
   "source": [
    ">### What is Beautiful Soup?\n",
    "\n",
    ">Beautiful Soup is **a Python package** for **parsing HTML and XML documents**. Beautiful Soup enables us to get data out of sequences of characters. It creates a parse tree for parsed pages that can be used to extract data from HTML. It's a handy tool when it comes to web scraping. You can read more on their documentation site. https://www.crummy.com/software/BeautifulSoup/bs4/doc/#getting-help\n",
    "\n",
    ">To extract information from the HTML source code of a webpage programmatically, we can use the Beautiful Soup library. Let's install the library and import **the BeautifulSoup class** from **the bs4 module.**"
   ]
  },
  {
   "cell_type": "code",
   "execution_count": 20,
   "metadata": {},
   "outputs": [],
   "source": [
    "from bs4 import BeautifulSoup"
   ]
  },
  {
   "cell_type": "code",
   "execution_count": 21,
   "metadata": {},
   "outputs": [],
   "source": [
    "doc = BeautifulSoup(page_content,'html.parser')"
   ]
  },
  {
   "cell_type": "markdown",
   "metadata": {},
   "source": [
    "### Inspecting the HTML source code of a web page"
   ]
  },
  {
   "cell_type": "markdown",
   "metadata": {},
   "source": [
    ">In Beautiful Soup library, we can specify `html.parser` to ask Python to read components of the page, instead of reading it as a long string. \n",
    "\n",
    ">### What is HTML?\n",
    "Before we dive into how to inspect HTML, we should know the basic knowledge about HTML.\n",
    "\n",
    ">The HyperText Markup Language, or HTML is the standard markup language for documents designed to be displayed in a web browser. It can be assisted by technologies such as Cascading Style Sheets and scripting languages such as JavaScript.\n",
    "\n",
    "\n",
    "\n"
   ]
  },
  {
   "cell_type": "markdown",
   "metadata": {},
   "source": [
    "![](https://imgur.com/c8XmKec.png)"
   ]
  },
  {
   "cell_type": "markdown",
   "metadata": {},
   "source": [
    "#### **An HTML tag comprises of three parts:**\n",
    "\n",
    "1. **Name**: (`html`, `head`, `body`, `div`, etc.) Indicates what the tag represents and how a browser should interpret the information inside it.\n",
    "2. **Attributes**: (`href`, `target`, `class`, `id`, etc.) Properties of tag used by the browser to customize how a tag is displayed and decide what happens on user interactions.\n",
    "3. **Children**: A tag can contain some text or other tags or both between the opening and closing segments, e.g., `<div>Some content</div>`.\n",
    "\n",
    "\n",
    "### Common tags and attributes\n",
    "\n",
    "#### **Tags in HTML**\n",
    "\n",
    "There are around 100 types of HTML tags but on a day to day basis, around 15 to 20 of them are the most common use, such as `<div>` tag, `<p>` tag, `<section>` tag, `<img>` tag, `<a>` tags.\n",
    "\n",
    "\n",
    "Of many tags, I wanted to highlight **`<a>` tag**, which  can contain attributes such as `href` (hyperlink reference), because `<a>` tag allows users to click and they would be directed to another site. That's why the name of `<a>` tag is  **anchor**.\n",
    "\n",
    "#### **Attributes**\n",
    "\n",
    "Each tag supports several attributes. Following are some common attributes used to modify the behavior of tags\n",
    "\n",
    "* `id`\n",
    "* `style`\n",
    "* `class`\n",
    "* `href` (used with `<a>`)\n",
    "* `src` (used with `<img>`)"
   ]
  },
  {
   "cell_type": "code",
   "execution_count": 22,
   "metadata": {},
   "outputs": [],
   "source": [
    "def get_topics_page(url):\n",
    "    \n",
    "    response=requests.get(url)\n",
    "    if response.status_code != 200:\n",
    "        raise Exception(f'Failed to load page {topic_url}')\n",
    "    doc = BeautifulSoup(response.text, 'html.parser')\n",
    "    return doc"
   ]
  },
  {
   "cell_type": "code",
   "execution_count": 23,
   "metadata": {},
   "outputs": [],
   "source": [
    "topic_url = 'https://www.imdb.com/search/title/?groups=top_250&sort=user_rating'\n",
    "doc = get_topics_page(topic_url)"
   ]
  },
  {
   "cell_type": "code",
   "execution_count": 24,
   "metadata": {},
   "outputs": [
    {
     "data": {
      "text/plain": [
       "<title>IMDb \"Top 250\"\n",
       "(Sorted by IMDb Rating Descending) - IMDb</title>"
      ]
     },
     "execution_count": 24,
     "metadata": {},
     "output_type": "execute_result"
    }
   ],
   "source": [
    "doc.find('title')"
   ]
  },
  {
   "cell_type": "markdown",
   "metadata": {},
   "source": [
    "### Inspecting HTML in the Browser\n",
    "\n",
    ">To view the **source code** of any webpage right within **your browser**, you can **right click** anywhere on a page and **select** the **\"Inspect\"** option. You access the **\"Developer Tools\"** mode, where you can see the source code as **a tree**. You can expand and collapse various nodes and find the source code for a specific portion of the page\n",
    "\n",
    "![](https://imgur.com/lCbVtJH.png)\n",
    "\n",
    "As shown in the photo above, I've cursored over one of the Movie Names to display how the entire content was presented. \n",
    "I found out that each `moviename` was present inside the `<a>` tag. Since it does not have any specific class, or other attribute, I will have to check for the desired `<a>` tags among all the `<a>` tags present on the page.\n",
    "\n",
    "Since I've pulled a single page and return to a BeautifulSoup object, we can start to use some function from Beautiful Soup library to withdraw the piece of information we want."
   ]
  },
  {
   "cell_type": "code",
   "execution_count": 25,
   "metadata": {},
   "outputs": [
    {
     "data": {
      "text/plain": [
       "['The Shawshank Redemption',\n",
       " 'The Godfather',\n",
       " 'The Dark Knight',\n",
       " \"Schindler's List\",\n",
       " '12 Angry Men',\n",
       " 'The Lord of the Rings: The Return of the King',\n",
       " 'The Godfather Part II',\n",
       " 'Spider-Man: Across the Spider-Verse',\n",
       " 'Pulp Fiction',\n",
       " 'Inception',\n",
       " 'The Lord of the Rings: The Fellowship of the Ring',\n",
       " 'Fight Club',\n",
       " 'Forrest Gump',\n",
       " 'Il buono, il brutto, il cattivo',\n",
       " 'The Lord of the Rings: The Two Towers',\n",
       " 'Jai Bhim',\n",
       " 'Interstellar',\n",
       " 'GoodFellas',\n",
       " 'The Matrix',\n",
       " \"One Flew Over the Cuckoo's Nest\",\n",
       " 'Star Wars: Episode V - The Empire Strikes Back',\n",
       " 'Saving Private Ryan',\n",
       " 'The Green Mile',\n",
       " 'Terminator 2: Judgment Day',\n",
       " 'Se7en',\n",
       " 'The Silence of the Lambs',\n",
       " 'Star Wars',\n",
       " 'Sen to Chihiro no kamikakushi',\n",
       " 'Cidade de Deus',\n",
       " 'La vita è bella',\n",
       " 'Shichinin no samurai',\n",
       " \"It's a Wonderful Life\",\n",
       " 'Seppuku',\n",
       " 'Gladiator',\n",
       " 'Back to the Future',\n",
       " 'The Departed',\n",
       " 'Gisaengchung',\n",
       " 'Léon',\n",
       " 'Whiplash',\n",
       " 'Alien',\n",
       " 'The Prestige',\n",
       " 'The Lion King',\n",
       " 'The Usual Suspects',\n",
       " 'American History X',\n",
       " 'The Pianist',\n",
       " 'Psycho',\n",
       " 'Casablanca',\n",
       " 'The Intouchables',\n",
       " 'Once Upon a Time in the West',\n",
       " 'Hotaru no haka']"
      ]
     },
     "execution_count": 25,
     "metadata": {},
     "output_type": "execute_result"
    }
   ],
   "source": [
    "parent = doc.find_all('h3', {'class' : 'lister-item-header'} ) # Here we create a list  of Movies Names from Most Popular Movies\n",
    "movie_names = []\n",
    "for item in parent:\n",
    "    movie_names.append(item.find('a').text)\n",
    "movie_names"
   ]
  },
  {
   "cell_type": "markdown",
   "metadata": {},
   "source": [
    "# Get the Movie Name"
   ]
  },
  {
   "cell_type": "markdown",
   "metadata": {},
   "source": [
    "![](https://i.imgur.com/lZeBjJW.jpg)"
   ]
  },
  {
   "cell_type": "code",
   "execution_count": 26,
   "metadata": {},
   "outputs": [
    {
     "data": {
      "text/plain": [
       "'The Shawshank Redemption'"
      ]
     },
     "execution_count": 26,
     "metadata": {},
     "output_type": "execute_result"
    }
   ],
   "source": [
    "doc.find_all('h3',{'class': 'lister-item-header'})[0]('a')[0].text"
   ]
  },
  {
   "cell_type": "code",
   "execution_count": 27,
   "metadata": {},
   "outputs": [],
   "source": [
    "def get_movie_name(doc):\n",
    "    movie_name_tags=doc.find_all('h3',{'class': 'lister-item-header'})\n",
    "    movie_name=[]\n",
    "    for tag in movie_name_tags:\n",
    "        movie_name.append(tag('a')[0].text.strip())\n",
    "    return movie_name"
   ]
  },
  {
   "cell_type": "code",
   "execution_count": 28,
   "metadata": {},
   "outputs": [],
   "source": [
    "movie_name = get_movie_name(doc)"
   ]
  },
  {
   "cell_type": "code",
   "execution_count": 29,
   "metadata": {},
   "outputs": [
    {
     "data": {
      "text/plain": [
       "['The Shawshank Redemption', 'The Godfather', 'The Dark Knight']"
      ]
     },
     "execution_count": 29,
     "metadata": {},
     "output_type": "execute_result"
    }
   ],
   "source": [
    "movie_name[:3]"
   ]
  },
  {
   "cell_type": "code",
   "execution_count": 30,
   "metadata": {},
   "outputs": [
    {
     "data": {
      "text/plain": [
       "50"
      ]
     },
     "execution_count": 30,
     "metadata": {},
     "output_type": "execute_result"
    }
   ],
   "source": [
    "len(movie_name)"
   ]
  },
  {
   "cell_type": "markdown",
   "metadata": {},
   "source": [
    "# Get the Movie Released Year"
   ]
  },
  {
   "cell_type": "markdown",
   "metadata": {},
   "source": [
    "![](https://i.imgur.com/ds9XXb4.jpg)"
   ]
  },
  {
   "cell_type": "code",
   "execution_count": 31,
   "metadata": {},
   "outputs": [],
   "source": [
    "def get_movie_year(doc):\n",
    "    year_selector = \"lister-item-year text-muted unbold\" \n",
    "    movie_year_tags=doc.find_all('span',{'class':year_selector})\n",
    "    movie_year= []\n",
    "    for tag in movie_year_tags:\n",
    "        movie_year.append(tag.text.strip())\n",
    "    return movie_year"
   ]
  },
  {
   "cell_type": "code",
   "execution_count": 32,
   "metadata": {},
   "outputs": [],
   "source": [
    "movie_year = get_movie_year(doc)"
   ]
  },
  {
   "cell_type": "code",
   "execution_count": 33,
   "metadata": {},
   "outputs": [
    {
     "data": {
      "text/plain": [
       "['(1994)', '(1972)', '(2008)']"
      ]
     },
     "execution_count": 33,
     "metadata": {},
     "output_type": "execute_result"
    }
   ],
   "source": [
    "movie_year[:3]"
   ]
  },
  {
   "cell_type": "code",
   "execution_count": 34,
   "metadata": {},
   "outputs": [
    {
     "data": {
      "text/plain": [
       "50"
      ]
     },
     "execution_count": 34,
     "metadata": {},
     "output_type": "execute_result"
    }
   ],
   "source": [
    "len(movie_name)"
   ]
  },
  {
   "cell_type": "markdown",
   "metadata": {},
   "source": [
    "# Get the Movie Runtime"
   ]
  },
  {
   "cell_type": "markdown",
   "metadata": {},
   "source": [
    "![](https://i.imgur.com/GFjBUXM.jpg)"
   ]
  },
  {
   "cell_type": "code",
   "execution_count": 35,
   "metadata": {},
   "outputs": [],
   "source": [
    "def get_movie_runtime(doc):\n",
    "    movie_runtime_tags=doc.find_all('span',{'class': 'runtime'})\n",
    "\n",
    "    movie_runtime=[]\n",
    "    \n",
    "    for tag in movie_runtime_tags:\n",
    "        movie_runtime.append(tag.text)\n",
    "    \n",
    "    return movie_runtime\n"
   ]
  },
  {
   "cell_type": "code",
   "execution_count": 36,
   "metadata": {},
   "outputs": [],
   "source": [
    " movie_runtime= get_movie_runtime(doc)"
   ]
  },
  {
   "cell_type": "code",
   "execution_count": 37,
   "metadata": {},
   "outputs": [
    {
     "data": {
      "text/plain": [
       "['142 min', '175 min', '152 min']"
      ]
     },
     "execution_count": 37,
     "metadata": {},
     "output_type": "execute_result"
    }
   ],
   "source": [
    " movie_runtime[:3]"
   ]
  },
  {
   "cell_type": "markdown",
   "metadata": {},
   "source": [
    "# Get the movie Rating"
   ]
  },
  {
   "cell_type": "markdown",
   "metadata": {},
   "source": [
    "![](https://i.imgur.com/dyZRIzw.jpg)"
   ]
  },
  {
   "cell_type": "code",
   "execution_count": 38,
   "metadata": {},
   "outputs": [],
   "source": [
    "def get_movie_rating(doc):           \n",
    "    movie_rating_tags=doc.find_all('div',{'class':'inline-block ratings-imdb-rating'})\n",
    "    movie_rating = []\n",
    "    for tag in movie_rating_tags:\n",
    "        movie_rating.append(tag.text.strip())\n",
    "    return movie_rating"
   ]
  },
  {
   "cell_type": "code",
   "execution_count": 39,
   "metadata": {},
   "outputs": [],
   "source": [
    "movie_rating = get_movie_rating(doc)"
   ]
  },
  {
   "cell_type": "code",
   "execution_count": 40,
   "metadata": {},
   "outputs": [
    {
     "data": {
      "text/plain": [
       "['9.3', '9.2', '9.0']"
      ]
     },
     "execution_count": 40,
     "metadata": {},
     "output_type": "execute_result"
    }
   ],
   "source": [
    "movie_rating[:3]"
   ]
  },
  {
   "cell_type": "markdown",
   "metadata": {},
   "source": [
    "# Get the Movie Metascore"
   ]
  },
  {
   "cell_type": "markdown",
   "metadata": {},
   "source": [
    "![](https://i.imgur.com/g4sLkVq.jpg)"
   ]
  },
  {
   "cell_type": "code",
   "execution_count": 41,
   "metadata": {},
   "outputs": [],
   "source": [
    "def get_movie_metascore(doc):           \n",
    "    movie_metascore_tags=doc.find_all('span',{'class':'metascore'})\n",
    "    movie_metascore = []\n",
    "    for tag in movie_metascore_tags:\n",
    "        movie_metascore.append(tag.text.strip())\n",
    "    return movie_metascore"
   ]
  },
  {
   "cell_type": "code",
   "execution_count": 42,
   "metadata": {},
   "outputs": [],
   "source": [
    "movie_metascore=get_movie_metascore(doc)"
   ]
  },
  {
   "cell_type": "code",
   "execution_count": 43,
   "metadata": {},
   "outputs": [
    {
     "data": {
      "text/plain": [
       "['82', '100', '84']"
      ]
     },
     "execution_count": 43,
     "metadata": {},
     "output_type": "execute_result"
    }
   ],
   "source": [
    "movie_metascore[:3]"
   ]
  },
  {
   "cell_type": "markdown",
   "metadata": {},
   "source": [
    "# Get the Movie Director"
   ]
  },
  {
   "cell_type": "code",
   "execution_count": 44,
   "metadata": {},
   "outputs": [],
   "source": [
    "def get_movie_director(doc):           \n",
    "    director_tags=doc.find_all('div',{'class':'lister-item-content'})\n",
    "    directors = []\n",
    "    direc = []\n",
    "    for tag in director_tags:\n",
    "        direc.append(tag.find_all('p')[2].get_text().strip('\\n'))\n",
    "    for di in direc:\n",
    "        directors.append(di.split('\\n')[1].strip('Director:').strip())\n",
    "    return directors"
   ]
  },
  {
   "cell_type": "code",
   "execution_count": 45,
   "metadata": {},
   "outputs": [],
   "source": [
    "movie_director=get_movie_director(doc)"
   ]
  },
  {
   "cell_type": "code",
   "execution_count": 46,
   "metadata": {},
   "outputs": [
    {
     "data": {
      "text/plain": [
       "['Frank Darabon', 'Francis Ford Coppola', 'Christopher Nolan']"
      ]
     },
     "execution_count": 46,
     "metadata": {},
     "output_type": "execute_result"
    }
   ],
   "source": [
    "movie_director[:3]"
   ]
  },
  {
   "cell_type": "code",
   "execution_count": 47,
   "metadata": {},
   "outputs": [
    {
     "data": {
      "text/plain": [
       "50"
      ]
     },
     "execution_count": 47,
     "metadata": {},
     "output_type": "execute_result"
    }
   ],
   "source": [
    "len(movie_director)"
   ]
  },
  {
   "cell_type": "markdown",
   "metadata": {},
   "source": [
    "# Get the Movie Actors"
   ]
  },
  {
   "cell_type": "code",
   "execution_count": 48,
   "metadata": {},
   "outputs": [],
   "source": [
    "def get_movie_actors(doc):           \n",
    "    movie_actors_tags=doc.find_all('div',{'class':'lister-item-content'})\n",
    "    movie_actors = []\n",
    "    actors = []\n",
    "    for tag in movie_actors_tags:\n",
    "        actors.append(tag.find_all('p')[2].get_text().strip('\\n'))\n",
    "    for actor in actors:\n",
    "        all_actors = actor.split('\\n')\n",
    "        stars = [star.strip(', ') for star in all_actors[3:] if star.strip(', ').strip('|').strip('Stars:')]\n",
    "        movie_actors.append(stars[1:])\n",
    "    return movie_actors"
   ]
  },
  {
   "cell_type": "code",
   "execution_count": 49,
   "metadata": {},
   "outputs": [],
   "source": [
    "movie_actors=get_movie_actors(doc)"
   ]
  },
  {
   "cell_type": "code",
   "execution_count": 50,
   "metadata": {},
   "outputs": [
    {
     "data": {
      "text/plain": [
       "[['Morgan Freeman', 'Bob Gunton', 'William Sadler'],\n",
       " ['Al Pacino', 'James Caan', 'Diane Keaton'],\n",
       " ['Heath Ledger', 'Aaron Eckhart', 'Michael Caine']]"
      ]
     },
     "execution_count": 50,
     "metadata": {},
     "output_type": "execute_result"
    }
   ],
   "source": [
    "movie_actors[:3]"
   ]
  },
  {
   "cell_type": "code",
   "execution_count": 51,
   "metadata": {},
   "outputs": [
    {
     "data": {
      "text/plain": [
       "50"
      ]
     },
     "execution_count": 51,
     "metadata": {},
     "output_type": "execute_result"
    }
   ],
   "source": [
    "len(movie_actors)"
   ]
  },
  {
   "cell_type": "markdown",
   "metadata": {},
   "source": [
    "## Let's put everything in one single function."
   ]
  },
  {
   "cell_type": "code",
   "execution_count": 52,
   "metadata": {},
   "outputs": [],
   "source": [
    "!pip install pandas --upgrade --quiet"
   ]
  },
  {
   "cell_type": "code",
   "execution_count": 53,
   "metadata": {},
   "outputs": [],
   "source": [
    "import pandas as pd"
   ]
  },
  {
   "cell_type": "code",
   "execution_count": 54,
   "metadata": {},
   "outputs": [],
   "source": [
    "import requests\n",
    "from bs4 import BeautifulSoup"
   ]
  },
  {
   "cell_type": "code",
   "execution_count": 55,
   "metadata": {},
   "outputs": [],
   "source": [
    "def all_pages(num=6):\n",
    "# Let's we create a dictionary to store data of all movies\n",
    "    movie_dict={\n",
    "        \n",
    "        'movie':[],\n",
    "        'year':[],\n",
    "        'runtime':[],\n",
    "        'rating':[],\n",
    "        'metascore':[],\n",
    "        'director':[],\n",
    "        'actors':[]\n",
    "    }      \n",
    "    # We have to scrap more than one page so we want urls of all pages with the help of loop we can get all urls\n",
    "    for i in [0,51,101]:\n",
    "        url='https://www.imdb.com/search/title/?groups=top_250&start={}&ref_=adv_nxt'.format(i)\n",
    "        doc=get_topics_page(url)\n",
    "        \n",
    "        movie_dict['movie'] += get_movie_name(doc)\n",
    "        movie_dict['year'] += get_movie_year(doc)\n",
    "        movie_dict['runtime'] += get_movie_runtime(doc)\n",
    "        movie_dict['rating'] += get_movie_rating(doc)\n",
    "        movie_dict['metascore'] += get_movie_metascore(doc)\n",
    "        movie_dict['director'] += get_movie_director(doc)\n",
    "        movie_dict['actors'] += get_movie_actors(doc)\n",
    "        \n",
    "    return pd.DataFrame.from_dict(movie_dict, orient='index')"
   ]
  },
  {
   "cell_type": "code",
   "execution_count": 56,
   "metadata": {},
   "outputs": [],
   "source": [
    "movies = all_pages()"
   ]
  },
  {
   "cell_type": "code",
   "execution_count": 57,
   "metadata": {},
   "outputs": [],
   "source": [
    "movies.to_csv('movies.csv',index=None)"
   ]
  },
  {
   "cell_type": "code",
   "execution_count": 58,
   "metadata": {},
   "outputs": [],
   "source": [
    "dataframe = pd.read_csv('movies.csv')"
   ]
  },
  {
   "cell_type": "code",
   "execution_count": 61,
   "metadata": {},
   "outputs": [
    {
     "data": {
      "text/html": [
       "<div>\n",
       "<style scoped>\n",
       "    .dataframe tbody tr th:only-of-type {\n",
       "        vertical-align: middle;\n",
       "    }\n",
       "\n",
       "    .dataframe tbody tr th {\n",
       "        vertical-align: top;\n",
       "    }\n",
       "\n",
       "    .dataframe thead th {\n",
       "        text-align: right;\n",
       "    }\n",
       "</style>\n",
       "<table border=\"1\" class=\"dataframe\">\n",
       "  <thead>\n",
       "    <tr style=\"text-align: right;\">\n",
       "      <th></th>\n",
       "      <th>0</th>\n",
       "      <th>1</th>\n",
       "      <th>2</th>\n",
       "      <th>3</th>\n",
       "      <th>4</th>\n",
       "      <th>5</th>\n",
       "      <th>6</th>\n",
       "      <th>7</th>\n",
       "      <th>8</th>\n",
       "      <th>9</th>\n",
       "      <th>...</th>\n",
       "      <th>140</th>\n",
       "      <th>141</th>\n",
       "      <th>142</th>\n",
       "      <th>143</th>\n",
       "      <th>144</th>\n",
       "      <th>145</th>\n",
       "      <th>146</th>\n",
       "      <th>147</th>\n",
       "      <th>148</th>\n",
       "      <th>149</th>\n",
       "    </tr>\n",
       "  </thead>\n",
       "  <tbody>\n",
       "    <tr>\n",
       "      <th>0</th>\n",
       "      <td>Spider-Man: Across the Spider-Verse</td>\n",
       "      <td>Spider-Man: Into the Spider-Verse</td>\n",
       "      <td>Guardians of the Galaxy Vol. 3</td>\n",
       "      <td>Raiders of the Lost Ark</td>\n",
       "      <td>Interstellar</td>\n",
       "      <td>The Godfather</td>\n",
       "      <td>Jurassic Park</td>\n",
       "      <td>Top Gun: Maverick</td>\n",
       "      <td>The Shawshank Redemption</td>\n",
       "      <td>Spider-Man: No Way Home</td>\n",
       "      <td>...</td>\n",
       "      <td>Star Wars: Episode VI - Return of the Jedi</td>\n",
       "      <td>Room</td>\n",
       "      <td>Some Like It Hot</td>\n",
       "      <td>How to Train Your Dragon</td>\n",
       "      <td>The Sound of Music</td>\n",
       "      <td>Three Billboards Outside Ebbing, Missouri</td>\n",
       "      <td>Salinui chueok</td>\n",
       "      <td>Incendies</td>\n",
       "      <td>Amadeus</td>\n",
       "      <td>Pan's Labyrinth</td>\n",
       "    </tr>\n",
       "    <tr>\n",
       "      <th>1</th>\n",
       "      <td>(2023)</td>\n",
       "      <td>(2018)</td>\n",
       "      <td>(2023)</td>\n",
       "      <td>(1981)</td>\n",
       "      <td>(2014)</td>\n",
       "      <td>(1972)</td>\n",
       "      <td>(1993)</td>\n",
       "      <td>(2022)</td>\n",
       "      <td>(1994)</td>\n",
       "      <td>(2021)</td>\n",
       "      <td>...</td>\n",
       "      <td>(1983)</td>\n",
       "      <td>(I) (2015)</td>\n",
       "      <td>(1959)</td>\n",
       "      <td>(2010)</td>\n",
       "      <td>(1965)</td>\n",
       "      <td>(2017)</td>\n",
       "      <td>(2003)</td>\n",
       "      <td>(2010)</td>\n",
       "      <td>(1984)</td>\n",
       "      <td>(2006)</td>\n",
       "    </tr>\n",
       "    <tr>\n",
       "      <th>2</th>\n",
       "      <td>140 min</td>\n",
       "      <td>117 min</td>\n",
       "      <td>150 min</td>\n",
       "      <td>115 min</td>\n",
       "      <td>169 min</td>\n",
       "      <td>175 min</td>\n",
       "      <td>127 min</td>\n",
       "      <td>130 min</td>\n",
       "      <td>142 min</td>\n",
       "      <td>148 min</td>\n",
       "      <td>...</td>\n",
       "      <td>131 min</td>\n",
       "      <td>118 min</td>\n",
       "      <td>121 min</td>\n",
       "      <td>98 min</td>\n",
       "      <td>172 min</td>\n",
       "      <td>115 min</td>\n",
       "      <td>131 min</td>\n",
       "      <td>131 min</td>\n",
       "      <td>160 min</td>\n",
       "      <td>118 min</td>\n",
       "    </tr>\n",
       "    <tr>\n",
       "      <th>3</th>\n",
       "      <td>8.9</td>\n",
       "      <td>8.4</td>\n",
       "      <td>8.2</td>\n",
       "      <td>8.4</td>\n",
       "      <td>8.7</td>\n",
       "      <td>9.2</td>\n",
       "      <td>8.2</td>\n",
       "      <td>8.3</td>\n",
       "      <td>9.3</td>\n",
       "      <td>8.2</td>\n",
       "      <td>...</td>\n",
       "      <td>8.3</td>\n",
       "      <td>8.1</td>\n",
       "      <td>8.2</td>\n",
       "      <td>8.1</td>\n",
       "      <td>8.1</td>\n",
       "      <td>8.1</td>\n",
       "      <td>8.1</td>\n",
       "      <td>8.3</td>\n",
       "      <td>8.4</td>\n",
       "      <td>8.2</td>\n",
       "    </tr>\n",
       "    <tr>\n",
       "      <th>4</th>\n",
       "      <td>86</td>\n",
       "      <td>87</td>\n",
       "      <td>64</td>\n",
       "      <td>85</td>\n",
       "      <td>74</td>\n",
       "      <td>100</td>\n",
       "      <td>68</td>\n",
       "      <td>78</td>\n",
       "      <td>82</td>\n",
       "      <td>71</td>\n",
       "      <td>...</td>\n",
       "      <td>86</td>\n",
       "      <td>98</td>\n",
       "      <td>75</td>\n",
       "      <td>63</td>\n",
       "      <td>88</td>\n",
       "      <td>82</td>\n",
       "      <td>80</td>\n",
       "      <td>88</td>\n",
       "      <td>98</td>\n",
       "      <td>NaN</td>\n",
       "    </tr>\n",
       "    <tr>\n",
       "      <th>5</th>\n",
       "      <td>Joaquim Dos Santos,</td>\n",
       "      <td>Bob Persichetti,</td>\n",
       "      <td>James Gunn</td>\n",
       "      <td>Steven Spielberg</td>\n",
       "      <td>Christopher Nolan</td>\n",
       "      <td>Francis Ford Coppola</td>\n",
       "      <td>Steven Spielberg</td>\n",
       "      <td>Joseph Kosinsk</td>\n",
       "      <td>Frank Darabon</td>\n",
       "      <td>Jon Watts</td>\n",
       "      <td>...</td>\n",
       "      <td>Richard Marquand</td>\n",
       "      <td>Lenny Abrahamson</td>\n",
       "      <td>Billy Wild</td>\n",
       "      <td>an DeBlois,</td>\n",
       "      <td>Robert Wis</td>\n",
       "      <td>Martin McDonagh</td>\n",
       "      <td>Bong Joon H</td>\n",
       "      <td>nis Villeneuv</td>\n",
       "      <td>Milos Forman</td>\n",
       "      <td>Guillermo del T</td>\n",
       "    </tr>\n",
       "    <tr>\n",
       "      <th>6</th>\n",
       "      <td>['Shameik Moore', 'Hailee Steinfeld', 'Brian T...</td>\n",
       "      <td>['Shameik Moore', 'Jake Johnson', 'Hailee Stei...</td>\n",
       "      <td>['Chukwudi Iwuji', 'Bradley Cooper', 'Pom Klem...</td>\n",
       "      <td>['Karen Allen', 'Paul Freeman', 'John Rhys-Dav...</td>\n",
       "      <td>['Anne Hathaway', 'Jessica Chastain', 'Mackenz...</td>\n",
       "      <td>['Al Pacino', 'James Caan', 'Diane Keaton']</td>\n",
       "      <td>['Laura Dern', 'Jeff Goldblum', 'Richard Atten...</td>\n",
       "      <td>['Jennifer Connelly', 'Miles Teller', 'Val Kil...</td>\n",
       "      <td>['Morgan Freeman', 'Bob Gunton', 'William Sadl...</td>\n",
       "      <td>['Zendaya', 'Benedict Cumberbatch', 'Jacob Bat...</td>\n",
       "      <td>...</td>\n",
       "      <td>['Harrison Ford', 'Carrie Fisher', 'Billy Dee ...</td>\n",
       "      <td>['Jacob Tremblay', 'Sean Bridgers', 'Wendy Cre...</td>\n",
       "      <td>['Tony Curtis', 'Jack Lemmon', 'George Raft']</td>\n",
       "      <td>['Gerard Butler', 'Christopher Mintz-Plasse', ...</td>\n",
       "      <td>['Christopher Plummer', 'Eleanor Parker', 'Ric...</td>\n",
       "      <td>['Woody Harrelson', 'Sam Rockwell', 'Caleb Lan...</td>\n",
       "      <td>['Kim Sang-kyung', 'Roe-ha Kim', 'Jae-ho Song']</td>\n",
       "      <td>['Mélissa Désormeaux-Poulin', 'Maxim Gaudette'...</td>\n",
       "      <td>['Tom Hulce', 'Elizabeth Berridge', 'Roy Dotri...</td>\n",
       "      <td>['Ariadna Gil', 'Sergi López', 'Maribel Verdú']</td>\n",
       "    </tr>\n",
       "  </tbody>\n",
       "</table>\n",
       "<p>7 rows × 150 columns</p>\n",
       "</div>"
      ],
      "text/plain": [
       "                                                   0  \\\n",
       "0                Spider-Man: Across the Spider-Verse   \n",
       "1                                             (2023)   \n",
       "2                                            140 min   \n",
       "3                                                8.9   \n",
       "4                                                 86   \n",
       "5                                Joaquim Dos Santos,   \n",
       "6  ['Shameik Moore', 'Hailee Steinfeld', 'Brian T...   \n",
       "\n",
       "                                                   1  \\\n",
       "0                  Spider-Man: Into the Spider-Verse   \n",
       "1                                             (2018)   \n",
       "2                                            117 min   \n",
       "3                                                8.4   \n",
       "4                                                 87   \n",
       "5                                   Bob Persichetti,   \n",
       "6  ['Shameik Moore', 'Jake Johnson', 'Hailee Stei...   \n",
       "\n",
       "                                                   2  \\\n",
       "0                     Guardians of the Galaxy Vol. 3   \n",
       "1                                             (2023)   \n",
       "2                                            150 min   \n",
       "3                                                8.2   \n",
       "4                                                 64   \n",
       "5                                         James Gunn   \n",
       "6  ['Chukwudi Iwuji', 'Bradley Cooper', 'Pom Klem...   \n",
       "\n",
       "                                                   3  \\\n",
       "0                            Raiders of the Lost Ark   \n",
       "1                                             (1981)   \n",
       "2                                            115 min   \n",
       "3                                                8.4   \n",
       "4                                                 85   \n",
       "5                                   Steven Spielberg   \n",
       "6  ['Karen Allen', 'Paul Freeman', 'John Rhys-Dav...   \n",
       "\n",
       "                                                   4  \\\n",
       "0                                       Interstellar   \n",
       "1                                             (2014)   \n",
       "2                                            169 min   \n",
       "3                                                8.7   \n",
       "4                                                 74   \n",
       "5                                  Christopher Nolan   \n",
       "6  ['Anne Hathaway', 'Jessica Chastain', 'Mackenz...   \n",
       "\n",
       "                                             5  \\\n",
       "0                                The Godfather   \n",
       "1                                       (1972)   \n",
       "2                                      175 min   \n",
       "3                                          9.2   \n",
       "4                                          100   \n",
       "5                         Francis Ford Coppola   \n",
       "6  ['Al Pacino', 'James Caan', 'Diane Keaton']   \n",
       "\n",
       "                                                   6  \\\n",
       "0                                      Jurassic Park   \n",
       "1                                             (1993)   \n",
       "2                                            127 min   \n",
       "3                                                8.2   \n",
       "4                                                 68   \n",
       "5                                   Steven Spielberg   \n",
       "6  ['Laura Dern', 'Jeff Goldblum', 'Richard Atten...   \n",
       "\n",
       "                                                   7  \\\n",
       "0                                  Top Gun: Maverick   \n",
       "1                                             (2022)   \n",
       "2                                            130 min   \n",
       "3                                                8.3   \n",
       "4                                                 78   \n",
       "5                                     Joseph Kosinsk   \n",
       "6  ['Jennifer Connelly', 'Miles Teller', 'Val Kil...   \n",
       "\n",
       "                                                   8  \\\n",
       "0                           The Shawshank Redemption   \n",
       "1                                             (1994)   \n",
       "2                                            142 min   \n",
       "3                                                9.3   \n",
       "4                                                 82   \n",
       "5                                      Frank Darabon   \n",
       "6  ['Morgan Freeman', 'Bob Gunton', 'William Sadl...   \n",
       "\n",
       "                                                   9  ...  \\\n",
       "0                            Spider-Man: No Way Home  ...   \n",
       "1                                             (2021)  ...   \n",
       "2                                            148 min  ...   \n",
       "3                                                8.2  ...   \n",
       "4                                                 71  ...   \n",
       "5                                          Jon Watts  ...   \n",
       "6  ['Zendaya', 'Benedict Cumberbatch', 'Jacob Bat...  ...   \n",
       "\n",
       "                                                 140  \\\n",
       "0         Star Wars: Episode VI - Return of the Jedi   \n",
       "1                                             (1983)   \n",
       "2                                            131 min   \n",
       "3                                                8.3   \n",
       "4                                                 86   \n",
       "5                                   Richard Marquand   \n",
       "6  ['Harrison Ford', 'Carrie Fisher', 'Billy Dee ...   \n",
       "\n",
       "                                                 141  \\\n",
       "0                                               Room   \n",
       "1                                         (I) (2015)   \n",
       "2                                            118 min   \n",
       "3                                                8.1   \n",
       "4                                                 98   \n",
       "5                                   Lenny Abrahamson   \n",
       "6  ['Jacob Tremblay', 'Sean Bridgers', 'Wendy Cre...   \n",
       "\n",
       "                                             142  \\\n",
       "0                               Some Like It Hot   \n",
       "1                                         (1959)   \n",
       "2                                        121 min   \n",
       "3                                            8.2   \n",
       "4                                             75   \n",
       "5                                     Billy Wild   \n",
       "6  ['Tony Curtis', 'Jack Lemmon', 'George Raft']   \n",
       "\n",
       "                                                 143  \\\n",
       "0                           How to Train Your Dragon   \n",
       "1                                             (2010)   \n",
       "2                                             98 min   \n",
       "3                                                8.1   \n",
       "4                                                 63   \n",
       "5                                        an DeBlois,   \n",
       "6  ['Gerard Butler', 'Christopher Mintz-Plasse', ...   \n",
       "\n",
       "                                                 144  \\\n",
       "0                                 The Sound of Music   \n",
       "1                                             (1965)   \n",
       "2                                            172 min   \n",
       "3                                                8.1   \n",
       "4                                                 88   \n",
       "5                                         Robert Wis   \n",
       "6  ['Christopher Plummer', 'Eleanor Parker', 'Ric...   \n",
       "\n",
       "                                                 145  \\\n",
       "0          Three Billboards Outside Ebbing, Missouri   \n",
       "1                                             (2017)   \n",
       "2                                            115 min   \n",
       "3                                                8.1   \n",
       "4                                                 82   \n",
       "5                                    Martin McDonagh   \n",
       "6  ['Woody Harrelson', 'Sam Rockwell', 'Caleb Lan...   \n",
       "\n",
       "                                               146  \\\n",
       "0                                   Salinui chueok   \n",
       "1                                           (2003)   \n",
       "2                                          131 min   \n",
       "3                                              8.1   \n",
       "4                                               80   \n",
       "5                                      Bong Joon H   \n",
       "6  ['Kim Sang-kyung', 'Roe-ha Kim', 'Jae-ho Song']   \n",
       "\n",
       "                                                 147  \\\n",
       "0                                          Incendies   \n",
       "1                                             (2010)   \n",
       "2                                            131 min   \n",
       "3                                                8.3   \n",
       "4                                                 88   \n",
       "5                                      nis Villeneuv   \n",
       "6  ['Mélissa Désormeaux-Poulin', 'Maxim Gaudette'...   \n",
       "\n",
       "                                                 148  \\\n",
       "0                                            Amadeus   \n",
       "1                                             (1984)   \n",
       "2                                            160 min   \n",
       "3                                                8.4   \n",
       "4                                                 98   \n",
       "5                                       Milos Forman   \n",
       "6  ['Tom Hulce', 'Elizabeth Berridge', 'Roy Dotri...   \n",
       "\n",
       "                                               149  \n",
       "0                                  Pan's Labyrinth  \n",
       "1                                           (2006)  \n",
       "2                                          118 min  \n",
       "3                                              8.2  \n",
       "4                                              NaN  \n",
       "5                                  Guillermo del T  \n",
       "6  ['Ariadna Gil', 'Sergi López', 'Maribel Verdú']  \n",
       "\n",
       "[7 rows x 150 columns]"
      ]
     },
     "execution_count": 61,
     "metadata": {},
     "output_type": "execute_result"
    }
   ],
   "source": [
    "dataframe"
   ]
  },
  {
   "cell_type": "code",
   "execution_count": 63,
   "metadata": {},
   "outputs": [
    {
     "data": {
      "text/html": [
       "<div>\n",
       "<style scoped>\n",
       "    .dataframe tbody tr th:only-of-type {\n",
       "        vertical-align: middle;\n",
       "    }\n",
       "\n",
       "    .dataframe tbody tr th {\n",
       "        vertical-align: top;\n",
       "    }\n",
       "\n",
       "    .dataframe thead th {\n",
       "        text-align: right;\n",
       "    }\n",
       "</style>\n",
       "<table border=\"1\" class=\"dataframe\">\n",
       "  <thead>\n",
       "    <tr style=\"text-align: right;\">\n",
       "      <th></th>\n",
       "      <th>0</th>\n",
       "      <th>1</th>\n",
       "      <th>2</th>\n",
       "      <th>3</th>\n",
       "      <th>4</th>\n",
       "      <th>5</th>\n",
       "      <th>6</th>\n",
       "    </tr>\n",
       "  </thead>\n",
       "  <tbody>\n",
       "    <tr>\n",
       "      <th>0</th>\n",
       "      <td>Spider-Man: Across the Spider-Verse</td>\n",
       "      <td>(2023)</td>\n",
       "      <td>140 min</td>\n",
       "      <td>8.9</td>\n",
       "      <td>86</td>\n",
       "      <td>Joaquim Dos Santos,</td>\n",
       "      <td>['Shameik Moore', 'Hailee Steinfeld', 'Brian T...</td>\n",
       "    </tr>\n",
       "    <tr>\n",
       "      <th>1</th>\n",
       "      <td>Spider-Man: Into the Spider-Verse</td>\n",
       "      <td>(2018)</td>\n",
       "      <td>117 min</td>\n",
       "      <td>8.4</td>\n",
       "      <td>87</td>\n",
       "      <td>Bob Persichetti,</td>\n",
       "      <td>['Shameik Moore', 'Jake Johnson', 'Hailee Stei...</td>\n",
       "    </tr>\n",
       "    <tr>\n",
       "      <th>2</th>\n",
       "      <td>Guardians of the Galaxy Vol. 3</td>\n",
       "      <td>(2023)</td>\n",
       "      <td>150 min</td>\n",
       "      <td>8.2</td>\n",
       "      <td>64</td>\n",
       "      <td>James Gunn</td>\n",
       "      <td>['Chukwudi Iwuji', 'Bradley Cooper', 'Pom Klem...</td>\n",
       "    </tr>\n",
       "    <tr>\n",
       "      <th>3</th>\n",
       "      <td>Raiders of the Lost Ark</td>\n",
       "      <td>(1981)</td>\n",
       "      <td>115 min</td>\n",
       "      <td>8.4</td>\n",
       "      <td>85</td>\n",
       "      <td>Steven Spielberg</td>\n",
       "      <td>['Karen Allen', 'Paul Freeman', 'John Rhys-Dav...</td>\n",
       "    </tr>\n",
       "    <tr>\n",
       "      <th>4</th>\n",
       "      <td>Interstellar</td>\n",
       "      <td>(2014)</td>\n",
       "      <td>169 min</td>\n",
       "      <td>8.7</td>\n",
       "      <td>74</td>\n",
       "      <td>Christopher Nolan</td>\n",
       "      <td>['Anne Hathaway', 'Jessica Chastain', 'Mackenz...</td>\n",
       "    </tr>\n",
       "    <tr>\n",
       "      <th>...</th>\n",
       "      <td>...</td>\n",
       "      <td>...</td>\n",
       "      <td>...</td>\n",
       "      <td>...</td>\n",
       "      <td>...</td>\n",
       "      <td>...</td>\n",
       "      <td>...</td>\n",
       "    </tr>\n",
       "    <tr>\n",
       "      <th>145</th>\n",
       "      <td>Three Billboards Outside Ebbing, Missouri</td>\n",
       "      <td>(2017)</td>\n",
       "      <td>115 min</td>\n",
       "      <td>8.1</td>\n",
       "      <td>82</td>\n",
       "      <td>Martin McDonagh</td>\n",
       "      <td>['Woody Harrelson', 'Sam Rockwell', 'Caleb Lan...</td>\n",
       "    </tr>\n",
       "    <tr>\n",
       "      <th>146</th>\n",
       "      <td>Salinui chueok</td>\n",
       "      <td>(2003)</td>\n",
       "      <td>131 min</td>\n",
       "      <td>8.1</td>\n",
       "      <td>80</td>\n",
       "      <td>Bong Joon H</td>\n",
       "      <td>['Kim Sang-kyung', 'Roe-ha Kim', 'Jae-ho Song']</td>\n",
       "    </tr>\n",
       "    <tr>\n",
       "      <th>147</th>\n",
       "      <td>Incendies</td>\n",
       "      <td>(2010)</td>\n",
       "      <td>131 min</td>\n",
       "      <td>8.3</td>\n",
       "      <td>88</td>\n",
       "      <td>nis Villeneuv</td>\n",
       "      <td>['Mélissa Désormeaux-Poulin', 'Maxim Gaudette'...</td>\n",
       "    </tr>\n",
       "    <tr>\n",
       "      <th>148</th>\n",
       "      <td>Amadeus</td>\n",
       "      <td>(1984)</td>\n",
       "      <td>160 min</td>\n",
       "      <td>8.4</td>\n",
       "      <td>98</td>\n",
       "      <td>Milos Forman</td>\n",
       "      <td>['Tom Hulce', 'Elizabeth Berridge', 'Roy Dotri...</td>\n",
       "    </tr>\n",
       "    <tr>\n",
       "      <th>149</th>\n",
       "      <td>Pan's Labyrinth</td>\n",
       "      <td>(2006)</td>\n",
       "      <td>118 min</td>\n",
       "      <td>8.2</td>\n",
       "      <td>NaN</td>\n",
       "      <td>Guillermo del T</td>\n",
       "      <td>['Ariadna Gil', 'Sergi López', 'Maribel Verdú']</td>\n",
       "    </tr>\n",
       "  </tbody>\n",
       "</table>\n",
       "<p>150 rows × 7 columns</p>\n",
       "</div>"
      ],
      "text/plain": [
       "                                             0       1        2    3    4  \\\n",
       "0          Spider-Man: Across the Spider-Verse  (2023)  140 min  8.9   86   \n",
       "1            Spider-Man: Into the Spider-Verse  (2018)  117 min  8.4   87   \n",
       "2               Guardians of the Galaxy Vol. 3  (2023)  150 min  8.2   64   \n",
       "3                      Raiders of the Lost Ark  (1981)  115 min  8.4   85   \n",
       "4                                 Interstellar  (2014)  169 min  8.7   74   \n",
       "..                                         ...     ...      ...  ...  ...   \n",
       "145  Three Billboards Outside Ebbing, Missouri  (2017)  115 min  8.1   82   \n",
       "146                             Salinui chueok  (2003)  131 min  8.1   80   \n",
       "147                                  Incendies  (2010)  131 min  8.3   88   \n",
       "148                                    Amadeus  (1984)  160 min  8.4   98   \n",
       "149                            Pan's Labyrinth  (2006)  118 min  8.2  NaN   \n",
       "\n",
       "                       5                                                  6  \n",
       "0    Joaquim Dos Santos,  ['Shameik Moore', 'Hailee Steinfeld', 'Brian T...  \n",
       "1       Bob Persichetti,  ['Shameik Moore', 'Jake Johnson', 'Hailee Stei...  \n",
       "2             James Gunn  ['Chukwudi Iwuji', 'Bradley Cooper', 'Pom Klem...  \n",
       "3       Steven Spielberg  ['Karen Allen', 'Paul Freeman', 'John Rhys-Dav...  \n",
       "4      Christopher Nolan  ['Anne Hathaway', 'Jessica Chastain', 'Mackenz...  \n",
       "..                   ...                                                ...  \n",
       "145      Martin McDonagh  ['Woody Harrelson', 'Sam Rockwell', 'Caleb Lan...  \n",
       "146          Bong Joon H    ['Kim Sang-kyung', 'Roe-ha Kim', 'Jae-ho Song']  \n",
       "147        nis Villeneuv  ['Mélissa Désormeaux-Poulin', 'Maxim Gaudette'...  \n",
       "148         Milos Forman  ['Tom Hulce', 'Elizabeth Berridge', 'Roy Dotri...  \n",
       "149      Guillermo del T    ['Ariadna Gil', 'Sergi López', 'Maribel Verdú']  \n",
       "\n",
       "[150 rows x 7 columns]"
      ]
     },
     "execution_count": 63,
     "metadata": {},
     "output_type": "execute_result"
    }
   ],
   "source": [
    "dataframe_transposed=dataframe.T\n",
    "dataframe_transposed"
   ]
  },
  {
   "cell_type": "markdown",
   "metadata": {},
   "source": [
    "## Summary\n",
    "\n",
    "Here is what we covered in this notebook:\n",
    "\n",
    "- Download the webpage using `requests`\n",
    "- Parse the HTML source code using `beautiful soup`\n",
    "- Extract movie name, movie released year,runtime,actors  and director from webpage\n",
    "- Compile extracted information using Python lists\n",
    "- Save the extracted information to a CSV file.\n",
    "``\n",
    "\n",
    "\n",
    "So, we are successful in parsing Web page for imdb movies. We got lots of interesting and useful information from it. \n",
    "All our work is saved in CSV file. Through this CSV file, we can get all our information in the best and optimal way.\n",
    " \n",
    "\n"
   ]
  },
  {
   "cell_type": "markdown",
   "metadata": {},
   "source": [
    "## Future Work\n",
    "\n",
    "- Now we can easily get details about most trending movies by top rating. Also we can find movies by our favorite genre.\n",
    "this data can be use for further analysis into the data and it will be auto update by running all cells again\n",
    "\n",
    "- Python libraries like matplotlib and seaborn can be used for visualisation of the data we have scraped.\n",
    "\n",
    "- Analyse the extracted data using pandas library for insights on directors/actors featuring in the list. \n",
    "\n",
    "- In this project I started to look into some of the websites where I could get the data for movies in IMDm website."
   ]
  },
  {
   "cell_type": "markdown",
   "metadata": {},
   "source": [
    "## References\n",
    " - https://beautiful-soup-4.readthedocs.io/en/latest/\n",
    " \n",
    "-  https://www.youtube.com/watch?v=RKsLLG-bzEY&t=8940s"
   ]
  },
  {
   "cell_type": "code",
   "execution_count": 64,
   "metadata": {},
   "outputs": [
    {
     "data": {
      "application/javascript": [
       "window.require && require([\"base/js/namespace\"],function(Jupyter){Jupyter.notebook.save_checkpoint()})"
      ],
      "text/plain": [
       "<IPython.core.display.Javascript object>"
      ]
     },
     "metadata": {},
     "output_type": "display_data"
    },
    {
     "name": "stdout",
     "output_type": "stream",
     "text": [
      "[jovian] Updating notebook \"sunithapachala93/final-web-scraping-project\" on https://jovian.com\u001b[0m\n",
      "[jovian] Committed successfully! https://jovian.com/sunithapachala93/final-web-scraping-project\u001b[0m\n"
     ]
    },
    {
     "data": {
      "text/plain": [
       "'https://jovian.com/sunithapachala93/final-web-scraping-project'"
      ]
     },
     "execution_count": 64,
     "metadata": {},
     "output_type": "execute_result"
    }
   ],
   "source": [
    "jovian.commit()"
   ]
  }
 ],
 "metadata": {
  "kernelspec": {
   "display_name": "Python 3 (ipykernel)",
   "language": "python",
   "name": "python3"
  },
  "language_info": {
   "codemirror_mode": {
    "name": "ipython",
    "version": 3
   },
   "file_extension": ".py",
   "mimetype": "text/x-python",
   "name": "python",
   "nbconvert_exporter": "python",
   "pygments_lexer": "ipython3",
   "version": "3.9.7"
  }
 },
 "nbformat": 4,
 "nbformat_minor": 2
}
